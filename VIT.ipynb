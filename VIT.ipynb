{
 "cells": [
  {
   "cell_type": "markdown",
   "metadata": {},
   "source": [
    "# VIT Image Classification Demo"
   ]
  },
  {
   "cell_type": "markdown",
   "metadata": {},
   "source": [
    "Transforms are primarily used for NLP tasks but recent research has also developed its application in Computer Vision. Vision Transformer (VIT) is one excellent example showing how transforms could be adapted to vision tasks. "
   ]
  },
  {
   "cell_type": "code",
   "execution_count": 1,
   "metadata": {},
   "outputs": [],
   "source": [
    "import numpy as np\n",
    "import tensorflow as tf\n",
    "import tensorflow_addons as tfa\n",
    "from tensorflow.keras.layers import Dense, Dropout, LayerNormalization, Flatten, Conv2D, InputLayer\n",
    "from tensorflow.keras.layers.experimental.preprocessing import Rescaling\n",
    "from tensorflow.keras.datasets import mnist"
   ]
  },
  {
   "cell_type": "code",
   "execution_count": 2,
   "metadata": {},
   "outputs": [
    {
     "name": "stdout",
     "output_type": "stream",
     "text": [
      "(60000, 10) (60000, 28, 28, 1)\n"
     ]
    }
   ],
   "source": [
    "(images_train, label), (images_test, label_test) = mnist.load_data()\n",
    "images_train = images_train[...,np.newaxis] / 255.0\n",
    "images_test = images_test[...,np.newaxis] / 255.0\n",
    "label = np.eye(10)[label]\n",
    "label_test = np.eye(10)[label_test]\n",
    "print (label.shape, images_train.shape)"
   ]
  },
  {
   "cell_type": "code",
   "execution_count": 3,
   "metadata": {},
   "outputs": [],
   "source": [
    "#ref: https://github.com/tuvovan/Vision_Transformer_Keras/blob/master/vit.py\n",
    "class MultiHeadSelfAttention(tf.keras.layers.Layer):\n",
    "    def __init__(self, embed_dim, num_heads=8):\n",
    "        super(MultiHeadSelfAttention, self).__init__()\n",
    "        self.embed_dim = embed_dim\n",
    "        self.num_heads = num_heads\n",
    "        if embed_dim % num_heads != 0:\n",
    "            raise ValueError(\n",
    "                f\"embedding dimension = {embed_dim} should be divisible by number of heads = {num_heads}\"\n",
    "            )\n",
    "        self.projection_dim = embed_dim // num_heads\n",
    "        self.query_dense = Dense(embed_dim)\n",
    "        self.key_dense = Dense(embed_dim)\n",
    "        self.value_dense = Dense(embed_dim)\n",
    "        self.combine_heads = Dense(embed_dim)\n",
    "\n",
    "    def attention(self, query, key, value):\n",
    "        score = tf.matmul(query, key, transpose_b=True)\n",
    "        dim_key = tf.cast(tf.shape(key)[-1], tf.float32)\n",
    "        scaled_score = score / tf.math.sqrt(dim_key)\n",
    "        weights = tf.nn.softmax(scaled_score, axis=-1)\n",
    "        output = tf.matmul(weights, value)\n",
    "        return output, weights\n",
    "\n",
    "    def separate_heads(self, x, batch_size):\n",
    "        x = tf.reshape(\n",
    "            x, (batch_size, -1, self.num_heads, self.projection_dim)\n",
    "        )\n",
    "        return tf.transpose(x, perm=[0, 2, 1, 3])\n",
    "\n",
    "    def call(self, inputs):\n",
    "        batch_size = tf.shape(inputs)[0]\n",
    "        query = self.query_dense(inputs)\n",
    "        key = self.key_dense(inputs)\n",
    "        value = self.value_dense(inputs)\n",
    "        query = self.separate_heads(query, batch_size)\n",
    "        key = self.separate_heads(key, batch_size)\n",
    "        value = self.separate_heads(value, batch_size)\n",
    "\n",
    "        attention, weights = self.attention(query, key, value)\n",
    "        attention = tf.transpose(attention, perm=[0, 2, 1, 3])\n",
    "        concat_attention = tf.reshape(\n",
    "            attention, (batch_size, -1, self.embed_dim)\n",
    "        )\n",
    "        output = self.combine_heads(concat_attention)\n",
    "        return output\n",
    "\n",
    "\n",
    "class TransformerBlock(tf.keras.layers.Layer):\n",
    "    def __init__(self, embed_dim, num_heads, ff_dim, dropout=0.1):\n",
    "        super(TransformerBlock, self).__init__()\n",
    "        self.att = MultiHeadSelfAttention(embed_dim, num_heads)\n",
    "        self.ffn = tf.keras.Sequential(\n",
    "            [Dense(ff_dim, activation=\"relu\"), Dense(embed_dim),]\n",
    "        )\n",
    "        self.layernorm1 = LayerNormalization(epsilon=1e-6)\n",
    "        self.layernorm2 = LayerNormalization(epsilon=1e-6)\n",
    "        self.dropout1 = Dropout(dropout)\n",
    "        self.dropout2 = Dropout(dropout)\n",
    "\n",
    "    def call(self, inputs, training):\n",
    "        attn_output = self.att(inputs)\n",
    "        attn_output = self.dropout1(attn_output, training=training)\n",
    "        out1 = self.layernorm1(inputs + attn_output)\n",
    "        ffn_output = self.ffn(out1)\n",
    "        ffn_output = self.dropout2(ffn_output, training=training)\n",
    "        return self.layernorm2(out1 + ffn_output)\n",
    "\n",
    "class VisionTransformer(tf.keras.Model):\n",
    "    def __init__(\n",
    "        self,\n",
    "        image_size,\n",
    "        patch_size,\n",
    "        num_layers,\n",
    "        num_classes,\n",
    "        d_model,\n",
    "        num_heads,\n",
    "        mlp_dim,\n",
    "        channels=3,\n",
    "        dropout=0.1,\n",
    "    ):\n",
    "        super(VisionTransformer, self).__init__()\n",
    "        num_patches = (image_size // patch_size) ** 2\n",
    "        self.patch_dim = channels * patch_size ** 2\n",
    "\n",
    "        self.patch_size = patch_size\n",
    "        self.d_model = d_model\n",
    "        self.num_layers = num_layers\n",
    "\n",
    "        self.rescale = Rescaling(1./255)\n",
    "        self.pos_emb = self.add_weight(\n",
    "            \"pos_emb\", shape=(1, num_patches + 1, d_model)\n",
    "        )\n",
    "        self.class_emb = self.add_weight(\"class_emb\", shape=(1, 1, d_model))\n",
    "        self.patch_proj = Dense(d_model)\n",
    "        self.enc_layers = [\n",
    "            TransformerBlock(d_model, num_heads, mlp_dim, dropout)\n",
    "            for _ in range(num_layers)\n",
    "        ]\n",
    "        self.mlp_head = tf.keras.Sequential(\n",
    "            [\n",
    "                Dense(mlp_dim, activation=tfa.activations.gelu),\n",
    "                Dropout(dropout),\n",
    "                Dense(num_classes),\n",
    "            ]\n",
    "        )\n",
    "\n",
    "    def extract_patches(self, images):\n",
    "        batch_size = tf.shape(images)[0]\n",
    "        patches = tf.image.extract_patches(\n",
    "            images=images,\n",
    "            sizes=[1, self.patch_size, self.patch_size, 1],\n",
    "            strides=[1, self.patch_size, self.patch_size, 1],\n",
    "            rates=[1, 1, 1, 1],\n",
    "            padding=\"VALID\",\n",
    "        )\n",
    "        patches = tf.reshape(patches, [batch_size, -1, self.patch_dim])\n",
    "        return patches\n",
    "\n",
    "    def call(self, x, training):\n",
    "        batch_size = tf.shape(x)[0]\n",
    "#         x = self.rescale(x)\n",
    "        patches = self.extract_patches(x)\n",
    "        x = self.patch_proj(patches)\n",
    "\n",
    "        class_emb = tf.broadcast_to(\n",
    "            self.class_emb, [batch_size, 1, self.d_model]\n",
    "        )\n",
    "        x = tf.concat([class_emb, x], axis=1)\n",
    "        x = x + self.pos_emb\n",
    "\n",
    "        for layer in self.enc_layers:\n",
    "            x = layer(x, training)\n",
    "\n",
    "        # First (class token) is used for classification\n",
    "        x = self.mlp_head(x[:, 0])\n",
    "        return x"
   ]
  },
  {
   "cell_type": "code",
   "execution_count": 4,
   "metadata": {},
   "outputs": [],
   "source": [
    "vit = VisionTransformer(image_size=28,\n",
    "                        patch_size=14,\n",
    "                        num_layers=3,\n",
    "                        num_classes=10,\n",
    "                        d_model=64,\n",
    "                        num_heads=4,\n",
    "                        mlp_dim=32,\n",
    "                        channels=1)\n",
    "\n",
    "vit.compile(loss=tf.keras.losses.CategoricalCrossentropy(from_logits=True),\n",
    "            optimizer='adam',\n",
    "            metrics=[\"accuracy\"])"
   ]
  },
  {
   "cell_type": "code",
   "execution_count": 9,
   "metadata": {},
   "outputs": [
    {
     "name": "stdout",
     "output_type": "stream",
     "text": [
      "Epoch 1/50\n",
      "94/94 [==============================] - 8s 57ms/step - loss: 1.4440 - accuracy: 0.5240 - val_loss: 0.2680 - val_accuracy: 0.9243\n",
      "Epoch 2/50\n",
      "94/94 [==============================] - 5s 48ms/step - loss: 0.3350 - accuracy: 0.9054 - val_loss: 0.1688 - val_accuracy: 0.9522\n",
      "Epoch 3/50\n",
      "94/94 [==============================] - 5s 49ms/step - loss: 0.2126 - accuracy: 0.9402 - val_loss: 0.1403 - val_accuracy: 0.9617\n",
      "Epoch 4/50\n",
      "94/94 [==============================] - 5s 49ms/step - loss: 0.1606 - accuracy: 0.9539 - val_loss: 0.1264 - val_accuracy: 0.9655\n",
      "Epoch 5/50\n",
      "94/94 [==============================] - 5s 49ms/step - loss: 0.1358 - accuracy: 0.9608 - val_loss: 0.1155 - val_accuracy: 0.9672\n",
      "Epoch 6/50\n",
      "94/94 [==============================] - 4s 48ms/step - loss: 0.1131 - accuracy: 0.9672 - val_loss: 0.1080 - val_accuracy: 0.9719\n",
      "Epoch 7/50\n",
      "94/94 [==============================] - 5s 49ms/step - loss: 0.0999 - accuracy: 0.9715 - val_loss: 0.1024 - val_accuracy: 0.9717\n",
      "Epoch 8/50\n",
      "94/94 [==============================] - 5s 49ms/step - loss: 0.0925 - accuracy: 0.9729 - val_loss: 0.1090 - val_accuracy: 0.9702\n",
      "Epoch 9/50\n",
      "94/94 [==============================] - 5s 49ms/step - loss: 0.0817 - accuracy: 0.9764 - val_loss: 0.1040 - val_accuracy: 0.9737\n",
      "Epoch 10/50\n",
      "94/94 [==============================] - 5s 49ms/step - loss: 0.0776 - accuracy: 0.9777 - val_loss: 0.1026 - val_accuracy: 0.9732\n",
      "Epoch 11/50\n",
      "94/94 [==============================] - 5s 48ms/step - loss: 0.0709 - accuracy: 0.9799 - val_loss: 0.0914 - val_accuracy: 0.9762\n",
      "Epoch 12/50\n",
      "94/94 [==============================] - 5s 49ms/step - loss: 0.0649 - accuracy: 0.9803 - val_loss: 0.0944 - val_accuracy: 0.9769\n",
      "Epoch 13/50\n",
      "94/94 [==============================] - 5s 50ms/step - loss: 0.0574 - accuracy: 0.9839 - val_loss: 0.0937 - val_accuracy: 0.9751\n",
      "Epoch 14/50\n",
      "94/94 [==============================] - 5s 49ms/step - loss: 0.0561 - accuracy: 0.9836 - val_loss: 0.0915 - val_accuracy: 0.9787\n",
      "Epoch 15/50\n",
      "94/94 [==============================] - 5s 48ms/step - loss: 0.0548 - accuracy: 0.9830 - val_loss: 0.0972 - val_accuracy: 0.9758\n",
      "Epoch 16/50\n",
      "94/94 [==============================] - 5s 48ms/step - loss: 0.0472 - accuracy: 0.9864 - val_loss: 0.0933 - val_accuracy: 0.9773\n"
     ]
    },
    {
     "data": {
      "text/plain": [
       "<tensorflow.python.keras.callbacks.History at 0x61879898>"
      ]
     },
     "execution_count": 9,
     "metadata": {},
     "output_type": "execute_result"
    }
   ],
   "source": [
    "early_stopping_callback = tf.keras.callbacks.EarlyStopping(monitor='val_loss', \n",
    "                                                           min_delta=0, \n",
    "                                                           patience=5, \n",
    "                                                           restore_best_weights=True)\n",
    "vit.fit(images_train,\n",
    "        label,\n",
    "        validation_split=0.2,\n",
    "        epochs=50, \n",
    "        batch_size=512, \n",
    "        callbacks=[early_stopping_callback])"
   ]
  },
  {
   "cell_type": "code",
   "execution_count": 10,
   "metadata": {},
   "outputs": [
    {
     "name": "stdout",
     "output_type": "stream",
     "text": [
      "20/20 [==============================] - 0s 20ms/step - loss: 0.0943 - accuracy: 0.9749\n"
     ]
    },
    {
     "data": {
      "text/plain": [
       "[0.09428730607032776, 0.9749000072479248]"
      ]
     },
     "execution_count": 10,
     "metadata": {},
     "output_type": "execute_result"
    }
   ],
   "source": [
    "vit.evaluate(images_test, label_test, batch_size=512)"
   ]
  },
  {
   "cell_type": "code",
   "execution_count": null,
   "metadata": {},
   "outputs": [],
   "source": []
  }
 ],
 "metadata": {
  "kernelspec": {
   "display_name": "Python 3",
   "language": "python",
   "name": "python3"
  },
  "language_info": {
   "codemirror_mode": {
    "name": "ipython",
    "version": 3
   },
   "file_extension": ".py",
   "mimetype": "text/x-python",
   "name": "python",
   "nbconvert_exporter": "python",
   "pygments_lexer": "ipython3",
   "version": "3.7.0"
  }
 },
 "nbformat": 4,
 "nbformat_minor": 4
}
