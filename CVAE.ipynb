{
 "cells": [
  {
   "cell_type": "markdown",
   "metadata": {},
   "source": [
    "# Conditional VAE Demo"
   ]
  },
  {
   "cell_type": "markdown",
   "metadata": {},
   "source": [
    "This notebook contains code for conditional varitational auto-encoder with cyclical kl annealing."
   ]
  },
  {
   "cell_type": "code",
   "execution_count": null,
   "metadata": {},
   "outputs": [],
   "source": [
    "import tensorflow as tf\n",
    "import numpy as np\n",
    "from tqdm import tqdm\n",
    "import matplotlib.pyplot as plt\n",
    "from tensorflow.keras.datasets import mnist"
   ]
  },
  {
   "cell_type": "code",
   "execution_count": 2,
   "metadata": {},
   "outputs": [
    {
     "name": "stdout",
     "output_type": "stream",
     "text": [
      "(60000, 28, 28, 1) (60000, 10)\n"
     ]
    }
   ],
   "source": [
    "(images_train, label), _ = mnist.load_data()\n",
    "label = np.eye(np.unique(label).shape[0])[label]\n",
    "images_train = 1 - images_train.astype(float)/ 255\n",
    "images_train = images_train[..., np.newaxis]\n",
    "print (images_train.shape, label.shape)"
   ]
  },
  {
   "cell_type": "code",
   "execution_count": 3,
   "metadata": {},
   "outputs": [],
   "source": [
    "def encoder(latent):\n",
    "    inp = tf.keras.layers.Input([28, 28, 1])\n",
    "    x = tf.keras.layers.Conv2D(filters=16, kernel_size=5, strides=2,\n",
    "                               padding='same',activation=tf.nn.leaky_relu)(inp)\n",
    "    x = tf.keras.layers.Conv2D(filters=32, kernel_size=5, strides=2,\n",
    "                               padding='same',activation=tf.nn.leaky_relu)(x)\n",
    "    x = tf.keras.layers.Conv2D(filters=64, kernel_size=7, strides=2,\n",
    "                               padding='valid',activation=tf.nn.leaky_relu)(x)\n",
    "    \n",
    "    x = tf.reshape(x, (-1, 64))\n",
    "    x = tf.keras.layers.Dense(32, activation=tf.nn.leaky_relu)(x)\n",
    "    \n",
    "    z_log_sigma_sq = tf.keras.layers.Dense(latent)(x)\n",
    "    z_mu = tf.keras.layers.Dense(latent)(x)\n",
    "    \n",
    "    sample = tf.random.normal(tf.shape(z_log_sigma_sq))\n",
    "    latent_z = sample * tf.sqrt(tf.exp(z_log_sigma_sq)) + z_mu  \n",
    "    \n",
    "    out = tf.stack([latent_z, z_log_sigma_sq, z_mu], -1)\n",
    "    model = tf.keras.Model(inp, out)\n",
    "    return model\n",
    "\n",
    "def decoder(latent):\n",
    "    \n",
    "    latent = tf.keras.layers.Input([latent], name='latent')\n",
    "    cond = tf.keras.layers.Input([10], name='cond')\n",
    "    \n",
    "    inp = tf.concat([latent, cond], -1)\n",
    "    \n",
    "    x = tf.keras.layers.Dense(units=(32), use_bias=False,activation=tf.nn.leaky_relu)(inp)\n",
    "    x = tf.reshape(x, (-1, 1, 1, 32))\n",
    "    x = tf.keras.layers.Conv2DTranspose(filters=64,kernel_size=7,strides=1,\n",
    "                                        padding='valid',use_bias=False,activation=tf.nn.leaky_relu)(x)\n",
    "    x = tf.keras.layers.Conv2DTranspose(filters=32,kernel_size=5,strides=2,\n",
    "                                        padding='same',use_bias=False,activation=tf.nn.leaky_relu)(x)\n",
    "    x = tf.keras.layers.Conv2DTranspose(filters=1,kernel_size=5,strides=2,\n",
    "                                        padding='same',use_bias=False, activation='sigmoid')(x)\n",
    "    \n",
    "    model = tf.keras.Model([latent, cond], x)\n",
    "    return model\n",
    "\n",
    "\n",
    "class CVAE(tf.keras.Model):\n",
    "\n",
    "    def __init__(self, dec, enc, cyclical_kl=True, coef=2):\n",
    "        super().__init__()\n",
    "        self.dec = dec\n",
    "        self.enc = enc\n",
    "        self.global_step = tf.Variable(0, dtype=tf.float32, name='step')\n",
    "        self.cyclical_kl = cyclical_kl\n",
    "        self.coef = coef\n",
    "        \n",
    "    def recons_loss(self, true, pred):\n",
    "        return tf.reduce_mean(tf.reduce_sum((true - pred)**2, (1,2,3)))\n",
    "    \n",
    "    def latent_loss(self, z_log_sigma_sq, z_mu):\n",
    "        return tf.reduce_mean(-0.5 * tf.reduce_sum(1 + z_log_sigma_sq - tf.square(z_mu) - tf.exp(z_log_sigma_sq), axis=-1))\n",
    "    \n",
    "    def call(self, inputs):\n",
    "        out = self.enc(inputs)\n",
    "        x = self.dec(out[..., 0])\n",
    "        return x\n",
    "        \n",
    "    def train_step(self, inputs):\n",
    "        inp, cond = inputs\n",
    "        train_vars = self.trainable_variables\n",
    "        \n",
    "        with tf.GradientTape() as tape:\n",
    "\n",
    "            out = self.enc(inp)\n",
    "            \n",
    "            latent_z = out[..., 0]\n",
    "            z_log_sigma_sq = out[..., 1]\n",
    "            z_mu = out[..., 2]\n",
    "            \n",
    "            x = self.dec([latent_z, cond])\n",
    "            \n",
    "            self.global_step.assign_add(tf.constant(1, tf.float32))\n",
    "            \n",
    "            if self.cyclical_kl:\n",
    "                coef = self.coef * tf.math.minimum(tf.math.floormod(self.global_step, 100) / 100, 0.5) * 2\n",
    "            else:\n",
    "                coef = self.coef\n",
    "                \n",
    "            latent_loss = self.latent_loss(z_log_sigma_sq, z_mu)\n",
    "            recons_loss = self.recons_loss(inp, x)\n",
    "            loss = recons_loss + latent_loss * coef  \n",
    "            \n",
    "        recons_grads = tape.gradient(loss, train_vars)\n",
    "        self.optimizer.apply_gradients(zip(recons_grads, train_vars))\n",
    "\n",
    "        return {'recons_loss': recons_loss, 'latent_loss':latent_loss, 'global_step':self.global_step}"
   ]
  },
  {
   "cell_type": "code",
   "execution_count": 4,
   "metadata": {},
   "outputs": [
    {
     "name": "stdout",
     "output_type": "stream",
     "text": [
      "Epoch 1/20\n",
      "235/235 [==============================] - 7s 20ms/step - recons_loss: 56.2724 - latent_loss: 2.2546 - global_step: 118.4707\n",
      "Epoch 2/20\n",
      "235/235 [==============================] - 5s 19ms/step - recons_loss: 34.3619 - latent_loss: 2.0445 - global_step: 353.4389\n",
      "Epoch 3/20\n",
      "235/235 [==============================] - 5s 19ms/step - recons_loss: 31.4554 - latent_loss: 2.4969 - global_step: 588.3731\n",
      "Epoch 4/20\n",
      "235/235 [==============================] - 5s 19ms/step - recons_loss: 30.3313 - latent_loss: 2.7543 - global_step: 823.2859\n",
      "Epoch 5/20\n",
      "235/235 [==============================] - 5s 19ms/step - recons_loss: 29.8839 - latent_loss: 2.6836 - global_step: 1058.1815\n",
      "Epoch 6/20\n",
      "235/235 [==============================] - 4s 19ms/step - recons_loss: 29.4828 - latent_loss: 2.7658 - global_step: 1293.0685\n",
      "Epoch 7/20\n",
      "235/235 [==============================] - 5s 19ms/step - recons_loss: 28.9858 - latent_loss: 2.9338 - global_step: 1527.9411\n",
      "Epoch 8/20\n",
      "235/235 [==============================] - 5s 19ms/step - recons_loss: 28.9075 - latent_loss: 2.8280 - global_step: 1762.8042\n",
      "Epoch 9/20\n",
      "235/235 [==============================] - 5s 19ms/step - recons_loss: 28.6200 - latent_loss: 2.9539 - global_step: 1997.6647 0s - recons_loss: 28.6799 - latent_loss: 2.9049 - gl\n",
      "Epoch 10/20\n",
      "235/235 [==============================] - 4s 19ms/step - recons_loss: 28.4008 - latent_loss: 2.9774 - global_step: 2232.5166\n",
      "Epoch 11/20\n",
      "235/235 [==============================] - 5s 19ms/step - recons_loss: 28.3464 - latent_loss: 2.8825 - global_step: 2467.3667 1s -\n",
      "Epoch 12/20\n",
      "235/235 [==============================] - 5s 19ms/step - recons_loss: 28.1120 - latent_loss: 3.0060 - global_step: 2702.2166\n",
      "Epoch 13/20\n",
      "235/235 [==============================] - 4s 19ms/step - recons_loss: 28.0273 - latent_loss: 2.9946 - global_step: 2937.0594\n",
      "Epoch 14/20\n",
      "235/235 [==============================] - 5s 19ms/step - recons_loss: 28.0413 - latent_loss: 2.9240 - global_step: 3171.9021\n",
      "Epoch 15/20\n",
      "235/235 [==============================] - 5s 19ms/step - recons_loss: 27.7894 - latent_loss: 3.1013 - global_step: 3406.7465\n",
      "Epoch 16/20\n",
      "235/235 [==============================] - 5s 19ms/step - recons_loss: 27.7566 - latent_loss: 3.0023 - global_step: 3641.5852\n",
      "Epoch 17/20\n",
      "235/235 [==============================] - 5s 19ms/step - recons_loss: 27.7822 - latent_loss: 2.9490 - global_step: 3876.4282\n",
      "Epoch 18/20\n",
      "235/235 [==============================] - 5s 19ms/step - recons_loss: 27.5774 - latent_loss: 3.1165 - global_step: 4111.2706\n",
      "Epoch 19/20\n",
      "235/235 [==============================] - 5s 19ms/step - recons_loss: 27.6221 - latent_loss: 3.0142 - global_step: 4346.1067\n",
      "Epoch 20/20\n",
      "235/235 [==============================] - 5s 19ms/step - recons_loss: 27.6319 - latent_loss: 2.9904 - global_step: 4580.9476\n"
     ]
    },
    {
     "data": {
      "text/plain": [
       "<tensorflow.python.keras.callbacks.History at 0x5f81f320>"
      ]
     },
     "execution_count": 4,
     "metadata": {},
     "output_type": "execute_result"
    }
   ],
   "source": [
    "latent=2\n",
    "model = CVAE(decoder(latent=latent), \n",
    "            encoder(latent=latent), \n",
    "            cyclical_kl=True)\n",
    "model.compile(optimizer=tf.keras.optimizers.Adam())\n",
    "model.fit(x=images_train, y=label,  batch_size=256, epochs=20)"
   ]
  },
  {
   "cell_type": "code",
   "execution_count": 11,
   "metadata": {},
   "outputs": [
    {
     "data": {
      "image/png": "[encoded data removed]",
      "text/plain": [
       "<Figure size 432x288 with 30 Axes>"
      ]
     },
     "metadata": {
      "needs_background": "light"
     },
     "output_type": "display_data"
    }
   ],
   "source": [
    "def img_grid(imgs, rows, cols, title):\n",
    "    fig = plt.figure()\n",
    "    for i, j in np.ndindex(rows, cols):\n",
    "        plt.subplot(rows, cols, i*cols+j+1)\n",
    "        plt.imshow(np.repeat(imgs[i*cols+j], 3, -1))\n",
    "        plt.axis('off')\n",
    "    plt.suptitle(title)\n",
    "    plt.show()\n",
    "\n",
    "cols = 3\n",
    "rows = 10\n",
    "r = np.random.normal(0, 1, size=(rows*cols, latent))    \n",
    "c = np.eye(10)[:, np.newaxis].repeat(cols, 1)\n",
    "c = c.reshape(-1, 10)\n",
    "\n",
    "gen = model.dec([r, c]).numpy()    \n",
    "img_grid(gen, rows, cols, 'Generated')"
   ]
  },
  {
   "cell_type": "code",
   "execution_count": null,
   "metadata": {},
   "outputs": [],
   "source": []
  }
 ],
 "metadata": {
  "kernelspec": {
   "display_name": "Python 3",
   "language": "python",
   "name": "python3"
  },
  "language_info": {
   "codemirror_mode": {
    "name": "ipython",
    "version": 3
   },
   "file_extension": ".py",
   "mimetype": "text/x-python",
   "name": "python",
   "nbconvert_exporter": "python",
   "pygments_lexer": "ipython3",
   "version": "3.7.0"
  }
 },
 "nbformat": 4,
 "nbformat_minor": 4
}
