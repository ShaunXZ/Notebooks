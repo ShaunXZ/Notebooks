{
 "cells": [
  {
   "cell_type": "markdown",
   "metadata": {},
   "source": [
    "# Bayesian-CNN Demo"
   ]
  },
  {
   "cell_type": "markdown",
   "metadata": {},
   "source": [
    "This notebook demonstrates how we can use bayesian cnn to quantify uncertainty in image classifiction task."
   ]
  },
  {
   "cell_type": "code",
   "execution_count": 1,
   "metadata": {},
   "outputs": [],
   "source": [
    "import tensorflow as tf\n",
    "import numpy as np\n",
    "import tensorflow_probability as tfp\n",
    "from tensorflow.keras.datasets import mnist\n",
    "import matplotlib.pyplot as plt"
   ]
  },
  {
   "cell_type": "code",
   "execution_count": 2,
   "metadata": {},
   "outputs": [
    {
     "name": "stdout",
     "output_type": "stream",
     "text": [
      "(36017, 10) (36017, 28, 28, 1)\n"
     ]
    }
   ],
   "source": [
    "(images_train, label), (images_test, label_test) = mnist.load_data()\n",
    "images_train = images_train[...,np.newaxis] / 255.0\n",
    "images_test = images_test[...,np.newaxis] / 255.0\n",
    "\n",
    "# here we remove number 6-9 from training set, \n",
    "# but they are still in the test set. \n",
    "images_train = images_train[label<6]\n",
    "label = label[label<6]\n",
    "label = np.eye(10)[label]\n",
    "\n",
    "print (label.shape, images_train.shape)"
   ]
  },
  {
   "cell_type": "code",
   "execution_count": 5,
   "metadata": {},
   "outputs": [
    {
     "name": "stdout",
     "output_type": "stream",
     "text": [
      "Model: \"model_1\"\n",
      "_________________________________________________________________\n",
      "Layer (type)                 Output Shape              Param #   \n",
      "=================================================================\n",
      "input_2 (InputLayer)         [(None, 28, 28, 1)]       0         \n",
      "_________________________________________________________________\n",
      "conv2d_flipout_4 (Conv2DFlip (None, 14, 14, 16)        304       \n",
      "_________________________________________________________________\n",
      "conv2d_flipout_5 (Conv2DFlip (None, 7, 7, 32)          9248      \n",
      "_________________________________________________________________\n",
      "conv2d_flipout_6 (Conv2DFlip (None, 1, 1, 64)          200768    \n",
      "_________________________________________________________________\n",
      "conv2d_flipout_7 (Conv2DFlip (None, 1, 1, 10)          1290      \n",
      "_________________________________________________________________\n",
      "flatten_1 (Flatten)          (None, 10)                0         \n",
      "=================================================================\n",
      "Total params: 211,610\n",
      "Trainable params: 211,610\n",
      "Non-trainable params: 0\n",
      "_________________________________________________________________\n"
     ]
    }
   ],
   "source": [
    "# bnn model\n",
    "kernel_divergence_fn = lambda q, p, _: tfp.distributions.kl_divergence(q, p) / images_train.shape[0]\n",
    "def conv_v(filters, kernel_size, strides, atv, padding):\n",
    "    return  tfp.layers.Convolution2DFlipout(filters,\n",
    "                                             kernel_size=kernel_size,\n",
    "                                             strides = strides,\n",
    "                                             activation = atv,\n",
    "                                             padding= padding,\n",
    "                                             kernel_divergence_fn=kernel_divergence_fn)\n",
    "\n",
    "\n",
    "def create_model():\n",
    "    inp = tf.keras.Input(shape=(28, 28, 1))\n",
    "    \n",
    "    x = conv_v(16, 3, 2, 'relu','same' )(inp)\n",
    "    x = conv_v(32, 3, 2,'relu','same')(x)\n",
    "    x = conv_v(64, 7, 1,'relu','valid')(x)\n",
    "    x = conv_v(10, 1, 1,'softmax','valid')(x)\n",
    "    x = tf.keras.layers.Flatten()(x)\n",
    "    \n",
    "    model = tf.keras.Model(inp, x)\n",
    "    model.compile(optimizer='adam', loss='categorical_crossentropy', metrics=['acc'])\n",
    "    model.summary()\n",
    "    return model \n",
    "\n",
    "model = create_model()"
   ]
  },
  {
   "cell_type": "code",
   "execution_count": 6,
   "metadata": {},
   "outputs": [
    {
     "name": "stdout",
     "output_type": "stream",
     "text": [
      "Epoch 1/100\n",
      "64/64 [==============================] - 7s 63ms/step - loss: 9.1006 - acc: 0.3457 - val_loss: 7.5526 - val_acc: 0.9062\n",
      "Epoch 2/100\n",
      "64/64 [==============================] - 3s 52ms/step - loss: 7.5044 - acc: 0.9111 - val_loss: 7.2688 - val_acc: 0.9547\n",
      "Epoch 3/100\n",
      "64/64 [==============================] - 3s 51ms/step - loss: 7.2525 - acc: 0.9474 - val_loss: 7.0808 - val_acc: 0.9675\n",
      "Epoch 4/100\n",
      "64/64 [==============================] - 3s 52ms/step - loss: 7.0531 - acc: 0.9640 - val_loss: 6.9147 - val_acc: 0.9722\n",
      "Epoch 5/100\n",
      "64/64 [==============================] - 3s 51ms/step - loss: 6.8833 - acc: 0.9706 - val_loss: 6.7599 - val_acc: 0.9770\n",
      "Epoch 6/100\n",
      "64/64 [==============================] - 3s 51ms/step - loss: 6.7191 - acc: 0.9755 - val_loss: 6.5972 - val_acc: 0.9814\n",
      "Epoch 7/100\n",
      "64/64 [==============================] - 3s 52ms/step - loss: 6.5641 - acc: 0.9783 - val_loss: 6.4480 - val_acc: 0.9817\n",
      "Epoch 8/100\n",
      "64/64 [==============================] - 3s 52ms/step - loss: 6.4024 - acc: 0.9827 - val_loss: 6.2896 - val_acc: 0.9842\n",
      "Epoch 9/100\n",
      "64/64 [==============================] - 3s 52ms/step - loss: 6.2489 - acc: 0.9840 - val_loss: 6.1406 - val_acc: 0.9839\n",
      "Epoch 10/100\n",
      "64/64 [==============================] - 3s 52ms/step - loss: 6.0956 - acc: 0.9859 - val_loss: 5.9967 - val_acc: 0.9847\n",
      "Epoch 11/100\n",
      "64/64 [==============================] - 3s 52ms/step - loss: 5.9484 - acc: 0.9869 - val_loss: 5.8451 - val_acc: 0.9875\n",
      "Epoch 12/100\n",
      "64/64 [==============================] - 3s 52ms/step - loss: 5.7994 - acc: 0.9880 - val_loss: 5.6992 - val_acc: 0.9875\n",
      "Epoch 13/100\n",
      "64/64 [==============================] - 3s 51ms/step - loss: 5.6500 - acc: 0.9882 - val_loss: 5.5539 - val_acc: 0.9853\n",
      "Epoch 14/100\n",
      "64/64 [==============================] - 3s 52ms/step - loss: 5.5048 - acc: 0.9887 - val_loss: 5.4092 - val_acc: 0.9875\n",
      "Epoch 15/100\n",
      "64/64 [==============================] - 3s 51ms/step - loss: 5.3600 - acc: 0.9894 - val_loss: 5.2744 - val_acc: 0.9856\n",
      "Epoch 16/100\n",
      "64/64 [==============================] - 3s 52ms/step - loss: 5.2159 - acc: 0.9889 - val_loss: 5.1268 - val_acc: 0.9875\n"
     ]
    },
    {
     "data": {
      "text/plain": [
       "<tensorflow.python.keras.callbacks.History at 0x64cfc748>"
      ]
     },
     "execution_count": 6,
     "metadata": {},
     "output_type": "execute_result"
    }
   ],
   "source": [
    "# train and validate\n",
    "early_stopping_callback = tf.keras.callbacks.EarlyStopping(monitor='val_acc', min_delta=0, patience=5, \n",
    "                                                           restore_best_weights=True)\n",
    "model.fit(images_train, label,\n",
    "          validation_split=0.1,\n",
    "          batch_size=512,\n",
    "          epochs=100, \n",
    "          callbacks=[early_stopping_callback])"
   ]
  },
  {
   "cell_type": "code",
   "execution_count": 7,
   "metadata": {},
   "outputs": [
    {
     "data": {
      "image/png": "[encoded data removed]",
      "text/plain": [
       "<Figure size 432x288 with 1 Axes>"
      ]
     },
     "metadata": {
      "needs_background": "light"
     },
     "output_type": "display_data"
    }
   ],
   "source": [
    "# quantify predictions uncertainty between seen (0-5) and unseen data (6-9)\n",
    "test_samples = 1000\n",
    "outputs = [model.predict(images_test[:test_samples])[np.newaxis] for _ in range(50)]\n",
    "outputs = np.concatenate(outputs, 0)\n",
    "std = np.sum(np.std(outputs, 0), -1)\n",
    "\n",
    "plt.hist(std[label_test[:test_samples] < 6], bins=list(np.arange(0, 1.5, 0.05)), label='<6', cumulative=True, alpha=0.8, density=True)    \n",
    "plt.hist(std[label_test[:test_samples] >= 6], bins=list(np.arange(0, 1.5, 0.05)), label='>=6', cumulative=True, alpha=0.8, density=True)\n",
    "plt.title('prediction uncertainty measured by std.')\n",
    "plt.legend()\n",
    "plt.show()"
   ]
  },
  {
   "cell_type": "code",
   "execution_count": null,
   "metadata": {},
   "outputs": [],
   "source": []
  }
 ],
 "metadata": {
  "kernelspec": {
   "display_name": "Python 3",
   "language": "python",
   "name": "python3"
  },
  "language_info": {
   "codemirror_mode": {
    "name": "ipython",
    "version": 3
   },
   "file_extension": ".py",
   "mimetype": "text/x-python",
   "name": "python",
   "nbconvert_exporter": "python",
   "pygments_lexer": "ipython3",
   "version": "3.7.0"
  }
 },
 "nbformat": 4,
 "nbformat_minor": 4
}
